{
 "cells": [
  {
   "cell_type": "markdown",
   "metadata": {
    "nbsphinx": "hidden"
   },
   "source": [
    "This notebook is part of the `zerkel` documentation: http://localhost:8080."
   ]
  },
  {
   "cell_type": "markdown",
   "metadata": {},
   "source": [
    "## Set manipulation"
   ]
  },
  {
   "cell_type": "code",
   "execution_count": null,
   "metadata": {},
   "outputs": [],
   "source": [
    "from zerkel import Set\n",
    "from IPython.display import Latex"
   ]
  },
  {
   "cell_type": "markdown",
   "metadata": {},
   "source": [
    "### Basics : instantiate, parse, print\n",
    "\n",
    "You can get the empty set by instantiating a Set without arguments"
   ]
  },
  {
   "cell_type": "code",
   "execution_count": null,
   "metadata": {
    "scrolled": true
   },
   "outputs": [],
   "source": [
    "print('Set() =', Set())"
   ]
  },
  {
   "cell_type": "markdown",
   "metadata": {},
   "source": [
    "The same way, you can create bigger sets :"
   ]
  },
  {
   "cell_type": "code",
   "execution_count": null,
   "metadata": {
    "scrolled": false
   },
   "outputs": [],
   "source": [
    "print('Set(Set()) =', Set(Set()))\n",
    "print('Set(Set(Set())) =', Set(Set(Set())))\n",
    "print('Set(Set(), Set(Set())) =', Set(Set(), Set(Set())))\n",
    "print('and so on...')"
   ]
  },
  {
   "cell_type": "code",
   "execution_count": null,
   "metadata": {
    "scrolled": true
   },
   "outputs": [],
   "source": [
    "print('You can also parse raw sets as follows : Set.parse(\"0\") = ', Set.parse('0'))\n",
    "print('You can also parse sets only using brackets : Set.parse(\"{}\") =', Set.parse('{}'))\n",
    "print('Note that you can print ordinals as raw set by using the to_string method :', Set.parse('{}').to_string())"
   ]
  },
  {
   "cell_type": "code",
   "execution_count": null,
   "metadata": {
    "scrolled": true
   },
   "outputs": [],
   "source": [
    "print('You can also parse tuple : Set.parse(\"(10, 20)\") =', Set.parse('(10, 20)'))\n",
    "print('To represents sets as tuple, again use the to_string method : Set.parse(\"10, 20)\").to_string(format_tuple=True) =',\n",
    "      Set.parse('(10, 20)').to_string(format_tuple=True))"
   ]
  },
  {
   "cell_type": "markdown",
   "metadata": {},
   "source": [
    "### Advanced : generate, tree representation\n",
    "\n",
    "Firstly, the Set object have many lazy properties to get informations.\n",
    "\n",
    "For instance, you can get the rank of a set by calling the property `rank`."
   ]
  },
  {
   "cell_type": "code",
   "execution_count": null,
   "metadata": {
    "scrolled": true
   },
   "outputs": [],
   "source": [
    "print('the Set {} has a rank of', Set.parse('{}').rank)\n",
    "print('the Set {{}} has a rank of', Set.parse('{{}}').rank)"
   ]
  },
  {
   "cell_type": "markdown",
   "metadata": {},
   "source": [
    "You can also get the cardinal of the set by calling the property `cardinal` or by using the built-in `len` function."
   ]
  },
  {
   "cell_type": "code",
   "execution_count": null,
   "metadata": {},
   "outputs": [],
   "source": [
    "print('the Set {} has a cardinal of', Set.parse('{}').cardinal)\n",
    "print('the Set {{}} has a cardinal of', len(Set.parse('{{}}')))"
   ]
  },
  {
   "cell_type": "markdown",
   "metadata": {},
   "source": [
    "Then, we can represent any set as an integer n as follows :\n",
    "\n",
    "<center>$|z| = \\displaystyle\\sum_{u \\in z}{2^{|u|}} = n$</center>\n",
    "\n",
    "The Set objects has a `value` lazy property that compute and store this unique associated integer."
   ]
  },
  {
   "cell_type": "code",
   "execution_count": null,
   "metadata": {
    "scrolled": false
   },
   "outputs": [],
   "source": [
    "Set.parse('{}').value"
   ]
  },
  {
   "cell_type": "markdown",
   "metadata": {},
   "source": [
    "Warning : do not try to compute the value of sets with a rank higher than 5."
   ]
  },
  {
   "cell_type": "code",
   "execution_count": null,
   "metadata": {
    "scrolled": true
   },
   "outputs": [],
   "source": [
    "print('The first set of rank 5 has already a value of', Set.generate_singleton(5).value)\n",
    "Latex(f'The last one has a value of $2^{{{Set.generate_singleton(5).value}}}-1$.')"
   ]
  },
  {
   "cell_type": "markdown",
   "metadata": {},
   "source": [
    "We can revert this formula to generate sets from integers :"
   ]
  },
  {
   "cell_type": "code",
   "execution_count": null,
   "metadata": {
    "scrolled": false
   },
   "outputs": [],
   "source": [
    "for i in range(10):\n",
    "    print(f'    {i} gives {Set.generate(i)}')"
   ]
  },
  {
   "cell_type": "markdown",
   "metadata": {},
   "source": [
    "We added a specific notation to parse set from their value :"
   ]
  },
  {
   "cell_type": "code",
   "execution_count": null,
   "metadata": {
    "scrolled": false
   },
   "outputs": [],
   "source": [
    "print(Set.parse('<10>'), 'has a value of', Set.parse('<10>').value)"
   ]
  },
  {
   "cell_type": "markdown",
   "metadata": {},
   "source": [
    "And of course, you can mix the notation in the parser."
   ]
  },
  {
   "cell_type": "code",
   "execution_count": null,
   "metadata": {},
   "outputs": [],
   "source": [
    "print(Set.parse('<10>'))\n",
    "print(Set.parse('3'))\n",
    "print(Set.parse('(1, 2)'))\n",
    "print(Set.parse('{<10>, 3, (1, 2)}'))"
   ]
  },
  {
   "cell_type": "markdown",
   "metadata": {},
   "source": [
    "You can also use directly the `generate_all` static method which generates all sets from 0 to the given value."
   ]
  },
  {
   "cell_type": "code",
   "execution_count": null,
   "metadata": {
    "scrolled": true
   },
   "outputs": [],
   "source": [
    "for s in Set.generate_all(10):\n",
    "    print(s, 'has a value of', s.value)"
   ]
  },
  {
   "cell_type": "markdown",
   "metadata": {},
   "source": [
    "Note that the `generate_all` static method is a Python generator, therefore, if you try to print it, you will get this :"
   ]
  },
  {
   "cell_type": "code",
   "execution_count": null,
   "metadata": {
    "scrolled": false
   },
   "outputs": [],
   "source": [
    "print(Set.generate_all(10))\n",
    "\n",
    "print(tuple(Set.generate_all(10))) # use a tuple to print it "
   ]
  },
  {
   "cell_type": "markdown",
   "metadata": {},
   "source": [
    "If you want to get the next 10 sets only, you can use the `generate_range` static method which generates all sets from the start value to the end value."
   ]
  },
  {
   "cell_type": "code",
   "execution_count": null,
   "metadata": {},
   "outputs": [],
   "source": [
    "for s in Set.generate_range(10, 10):\n",
    "    print(s)"
   ]
  },
  {
   "cell_type": "markdown",
   "metadata": {},
   "source": [
    "To generate an ordinal, there is also a `generate_ordinal` static method which takes the integer that represents this ordinal. This integer is not the value that represents the Set as discussed above.\n",
    "Note that this method is equivalent to `Set.parse` when it is called on the string representation of an integer."
   ]
  },
  {
   "cell_type": "code",
   "execution_count": null,
   "metadata": {
    "scrolled": true
   },
   "outputs": [],
   "source": [
    "print('Set.generate_ordinal(10) =', Set.generate_ordinal(10))\n",
    "print('Set.parse(\"10\") =', Set.parse('10'))"
   ]
  },
  {
   "cell_type": "markdown",
   "metadata": {},
   "source": [
    "Note that, in general, `Set.generate(n)`, is not equal to `Set.generate_ordinal(n)`, except for 0 and 1."
   ]
  },
  {
   "cell_type": "markdown",
   "metadata": {},
   "source": [
    "### Set tree representation\n",
    "\n",
    "To visualize the structure of a set, you can use the method `as_tree()` to get a tree representation of the set."
   ]
  },
  {
   "cell_type": "code",
   "execution_count": null,
   "metadata": {
    "scrolled": true
   },
   "outputs": [],
   "source": [
    "print(Set.generate_ordinal(4).as_tree())"
   ]
  },
  {
   "cell_type": "code",
   "execution_count": null,
   "metadata": {},
   "outputs": [],
   "source": [
    "print(Set.parse('{{1}, 2}').as_tree())"
   ]
  },
  {
   "cell_type": "markdown",
   "metadata": {},
   "source": [
    "### Other Set generation method :\n",
    "\n",
    "#### Singleton generator :"
   ]
  },
  {
   "cell_type": "code",
   "execution_count": null,
   "metadata": {
    "scrolled": true
   },
   "outputs": [],
   "source": [
    "for i in range(5):\n",
    "    print(f'Singleton set of rank {i} :', Set.generate_singleton(i).as_tree(), sep='\\n')"
   ]
  },
  {
   "cell_type": "markdown",
   "metadata": {},
   "source": [
    "#### Complete set generator : this generator generates the sets that contains all set of rank less or equal to the given rank."
   ]
  },
  {
   "cell_type": "code",
   "execution_count": null,
   "metadata": {
    "scrolled": true
   },
   "outputs": [],
   "source": [
    "print(Set.generate_complete(3).as_tree())"
   ]
  },
  {
   "cell_type": "markdown",
   "metadata": {},
   "source": [
    "A nice property is that the value of the complete set of rank $n$ precedes the singleton set of rank $n + 2$."
   ]
  },
  {
   "cell_type": "code",
   "execution_count": null,
   "metadata": {
    "scrolled": true
   },
   "outputs": [],
   "source": [
    "for i in range(4):\n",
    "    print(Set.generate_complete(i).value + 1, Set.generate_singleton(i+2).value)"
   ]
  },
  {
   "cell_type": "markdown",
   "metadata": {},
   "source": [
    "#### Transitive set generator : given a $n$,  this generator generates the first $n$ sets that are transitives i.e they contains the elements of their elements."
   ]
  },
  {
   "cell_type": "code",
   "execution_count": null,
   "metadata": {
    "scrolled": true
   },
   "outputs": [],
   "source": [
    "for s in Set.generate_transitive(6):\n",
    "    print(s.as_tree())"
   ]
  }
 ],
 "metadata": {
  "celltoolbar": "Raw Cell Format",
  "kernelspec": {
   "display_name": "Python 3",
   "language": "python",
   "name": "python3"
  },
  "language_info": {
   "codemirror_mode": {
    "name": "ipython",
    "version": 3
   },
   "file_extension": ".py",
   "mimetype": "text/x-python",
   "name": "python",
   "nbconvert_exporter": "python",
   "pygments_lexer": "ipython3",
   "version": "3.7.2"
  }
 },
 "nbformat": 4,
 "nbformat_minor": 2
}
