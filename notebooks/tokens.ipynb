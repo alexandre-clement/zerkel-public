{
 "cells": [
  {
   "cell_type": "markdown",
   "metadata": {
    "nbsphinx": "hidden"
   },
   "source": [
    "This notebook is part of the `zerkel` documentation: http://localhost:8080."
   ]
  },
  {
   "cell_type": "markdown",
   "metadata": {},
   "source": [
    "# Write programs with tokens"
   ]
  },
  {
   "cell_type": "code",
   "execution_count": 1,
   "metadata": {},
   "outputs": [],
   "source": [
    "# We import the parser from zerkel\n",
    "from zerkel import parse"
   ]
  },
  {
   "cell_type": "markdown",
   "metadata": {},
   "source": [
    "### Trivial example :\n",
    "The program E of arity 0 :"
   ]
  },
  {
   "cell_type": "code",
   "execution_count": 2,
   "metadata": {},
   "outputs": [
    {
     "name": "stdout",
     "output_type": "stream",
     "text": [
      "The program E has an arity of 0\n"
     ]
    }
   ],
   "source": [
    "E = parse('E')\n",
    "print('The program', E, 'has an arity of', E.arity)"
   ]
  },
  {
   "cell_type": "code",
   "execution_count": 3,
   "metadata": {},
   "outputs": [
    {
     "name": "stdout",
     "output_type": "stream",
     "text": [
      "The program E has 1 tokens.\n"
     ]
    }
   ],
   "source": [
    "print('The program', E, 'has', E.size, 'tokens.')"
   ]
  },
  {
   "cell_type": "markdown",
   "metadata": {},
   "source": [
    "### Example using projectors\n",
    "The program that maps (x, y, z) to y is :"
   ]
  },
  {
   "cell_type": "code",
   "execution_count": 4,
   "metadata": {},
   "outputs": [
    {
     "name": "stdout",
     "output_type": "stream",
     "text": [
      "The program <>I has an arity of 3 and it uses 3 tokens.\n"
     ]
    }
   ],
   "source": [
    "get_1_among_3 = parse('<>I')\n",
    "print('The program', get_1_among_3, 'has an arity of', get_1_among_3.arity, 'and it uses', get_1_among_3.size, 'tokens.')"
   ]
  },
  {
   "cell_type": "markdown",
   "metadata": {},
   "source": [
    "### Examples using the composition token\n",
    "The program that adds a set to itself as follows : $(x) \\mapsto x \\cup \\{x\\} $.\n",
    "\n",
    "We commonly call it the program successor because it acts like the successor on ordinals numbers."
   ]
  },
  {
   "cell_type": "code",
   "execution_count": 5,
   "metadata": {
    "scrolled": true
   },
   "outputs": [
    {
     "name": "stdout",
     "output_type": "stream",
     "text": [
      "The program o+II has an arity of 1 and it uses 4 tokens.\n"
     ]
    }
   ],
   "source": [
    "s = parse('o+II')\n",
    "print('The program', s, 'has an arity of', s.arity, 'and it uses', s.size, 'tokens.')"
   ]
  },
  {
   "cell_type": "markdown",
   "metadata": {},
   "source": [
    "### Example using the recursion token\n",
    "The program that build the smallest transitive set containing the input set is also called the transitive closure.\n",
    "\n",
    "The program computing the transitive closure uses the recursion token as follows :"
   ]
  },
  {
   "cell_type": "code",
   "execution_count": 6,
   "metadata": {
    "scrolled": false
   },
   "outputs": [
    {
     "name": "stdout",
     "output_type": "stream",
     "text": [
      "The program R+ has an arity of 1 and it uses 2 tokens.\n"
     ]
    }
   ],
   "source": [
    "tc = parse('R+')\n",
    "print('The program', tc, 'has an arity of', tc.arity, 'and it uses', tc.size, 'tokens.')"
   ]
  },
  {
   "cell_type": "markdown",
   "metadata": {},
   "source": [
    "### Example using the if then else operator\n",
    "\n",
    "This example is the program checking the equality between the 2 input sets.\n",
    "\n",
    "Therefore, this program is the program that maps (x, y) to $1 = \\{\\{\\}\\}$ if $x = y$, $0 = \\{\\}$ otherwise."
   ]
  },
  {
   "cell_type": "code",
   "execution_count": 7,
   "metadata": {
    "scrolled": true
   },
   "outputs": [
    {
     "name": "stdout",
     "output_type": "stream",
     "text": [
      "The program o!<<o+EE<<E>I+ has an arity of 2 and it uses 14 tokens.\n"
     ]
    }
   ],
   "source": [
    "equal = parse('o!<<o+EE<<E>I+')\n",
    "print('The program', equal, 'has an arity of', equal.arity, 'and it uses', equal.size, 'tokens.')"
   ]
  },
  {
   "cell_type": "markdown",
   "metadata": {},
   "source": [
    "Some explanations:\n",
    "* First we build the set $x \\cup \\{y\\}$ with `+`.\n",
    "* Then we check if $x$ is in $x \\cup \\{y\\}$, if this is True, then $x = y$ because $x$ can not contain itself.\n",
    "* Finally, if $x = y$ the program returns $1$ using the program `<<o+EE`, otherwise it returns $0$ using the program `<<E`."
   ]
  },
  {
   "cell_type": "markdown",
   "metadata": {},
   "source": [
    "### Wrong programs and errors checking"
   ]
  },
  {
   "cell_type": "code",
   "execution_count": 8,
   "metadata": {
    "scrolled": false
   },
   "outputs": [
    {
     "name": "stdout",
     "output_type": "stream",
     "text": [
      "ParseException at column 2:\n",
      "EIo+?<>oR!\n",
      " ^\n"
     ]
    }
   ],
   "source": [
    "try:\n",
    "    parse('EIo+?<>oR!')\n",
    "except Exception as e:\n",
    "    print(e)"
   ]
  },
  {
   "cell_type": "markdown",
   "metadata": {},
   "source": [
    "In this example, `E` does not take another program as argument so the parser throws an exception when it encounters the following `I` token.\n",
    "\n",
    "In this case, the program is invalid and an exception is thrown showing the column of the error."
   ]
  },
  {
   "cell_type": "code",
   "execution_count": 9,
   "metadata": {
    "scrolled": false
   },
   "outputs": [
    {
     "name": "stdout",
     "output_type": "stream",
     "text": [
      "ParseException at column 5:\n",
      "o+III\n",
      "    ^\n"
     ]
    }
   ],
   "source": [
    "try:\n",
    "    parse('o+III')\n",
    "except Exception as e:\n",
    "    print(e)"
   ]
  },
  {
   "cell_type": "markdown",
   "metadata": {},
   "source": [
    "In this example, the composition needs 2 compounds because the main program, here `+` has an arity of 2, but 3 compounds has been given so the parser throws an exception.\n",
    "\n",
    "The same thing applies if not enough compounds are given."
   ]
  },
  {
   "cell_type": "code",
   "execution_count": 10,
   "metadata": {
    "scrolled": false
   },
   "outputs": [
    {
     "name": "stdout",
     "output_type": "stream",
     "text": [
      "ParseException at column 4:\n",
      "o+I\n",
      "   ^\n"
     ]
    }
   ],
   "source": [
    "try:\n",
    "    parse('o+I')\n",
    "except Exception as e:\n",
    "    print(e)"
   ]
  },
  {
   "cell_type": "markdown",
   "metadata": {},
   "source": [
    "They are multiple cases of invalid program which can be parsed nonetheless :"
   ]
  },
  {
   "cell_type": "code",
   "execution_count": 11,
   "metadata": {},
   "outputs": [
    {
     "name": "stdout",
     "output_type": "stream",
     "text": [
      "o++I\n"
     ]
    }
   ],
   "source": [
    "# Here the compounds does not have the same arity\n",
    "print(parse('o++I'))"
   ]
  },
  {
   "cell_type": "code",
   "execution_count": 12,
   "metadata": {},
   "outputs": [
    {
     "name": "stdout",
     "output_type": "stream",
     "text": [
      "RI\n"
     ]
    }
   ],
   "source": [
    "# Here program used in the recursion has an arity of 1 but it has to be at least 2.\n",
    "print(parse('RI'))"
   ]
  },
  {
   "cell_type": "code",
   "execution_count": 13,
   "metadata": {},
   "outputs": [
    {
     "name": "stdout",
     "output_type": "stream",
     "text": [
      "!+I\n"
     ]
    }
   ],
   "source": [
    "# The 2 programs used by the if then else operator need to have the same arity.\n",
    "print(parse('!+I'))"
   ]
  },
  {
   "cell_type": "markdown",
   "metadata": {},
   "source": [
    "For those case which requires good debugging messages when they happen, there is a function `check` which does a semantical analysis of the program. "
   ]
  },
  {
   "cell_type": "code",
   "execution_count": 14,
   "metadata": {},
   "outputs": [],
   "source": [
    "from zerkel import check"
   ]
  },
  {
   "cell_type": "code",
   "execution_count": 15,
   "metadata": {
    "scrolled": true
   },
   "outputs": [
    {
     "name": "stdout",
     "output_type": "stream",
     "text": [
      "The compounds of \"o++I\" have an arity of (2, 1), but it is required that they all be equal.\n"
     ]
    }
   ],
   "source": [
    "try:\n",
    "    check('o++I')\n",
    "except Exception as e:\n",
    "    print(e)"
   ]
  },
  {
   "cell_type": "code",
   "execution_count": 16,
   "metadata": {
    "scrolled": true
   },
   "outputs": [
    {
     "name": "stdout",
     "output_type": "stream",
     "text": [
      "The Recursion \"RI\" has a compound of arity  1 but it requires a program of at least arity 2.\n"
     ]
    }
   ],
   "source": [
    "try:\n",
    "    check('RI')\n",
    "except Exception as e:\n",
    "    print(e)"
   ]
  },
  {
   "cell_type": "code",
   "execution_count": 17,
   "metadata": {
    "scrolled": true
   },
   "outputs": [
    {
     "name": "stdout",
     "output_type": "stream",
     "text": [
      "Mismatched arity: In operator first compound has an arity of 2 and the secound compound has an arity of 1.\n"
     ]
    }
   ],
   "source": [
    "try:\n",
    "    check('!+I')\n",
    "except Exception as e:\n",
    "    print(e)"
   ]
  }
 ],
 "metadata": {
  "kernelspec": {
   "display_name": "Python 3",
   "language": "python",
   "name": "python3"
  },
  "language_info": {
   "codemirror_mode": {
    "name": "ipython",
    "version": 3
   },
   "file_extension": ".py",
   "mimetype": "text/x-python",
   "name": "python",
   "nbconvert_exporter": "python",
   "pygments_lexer": "ipython3",
   "version": "3.7.2"
  }
 },
 "nbformat": 4,
 "nbformat_minor": 2
}
